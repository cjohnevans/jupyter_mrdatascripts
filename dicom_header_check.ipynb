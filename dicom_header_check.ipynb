{
 "cells": [
  {
   "cell_type": "code",
   "execution_count": 1,
   "id": "376d438e",
   "metadata": {},
   "outputs": [],
   "source": [
    "import sys\n",
    "import os"
   ]
  },
  {
   "cell_type": "code",
   "execution_count": 2,
   "id": "5eacf05e",
   "metadata": {},
   "outputs": [],
   "source": [
    "sys.path.append('/home/sapje1/code/python_mrdatamethods/')"
   ]
  },
  {
   "cell_type": "code",
   "execution_count": 3,
   "id": "d9c491ff",
   "metadata": {
    "scrolled": true
   },
   "outputs": [],
   "source": [
    "import siemensdicom"
   ]
  },
  {
   "cell_type": "code",
   "execution_count": 4,
   "id": "77c2f64f",
   "metadata": {},
   "outputs": [],
   "source": [
    "data_dir = '/home/sapje1/data_sapje1/projects/hugh_soccer/22_02_10-09_42_33-STD-1_3_12_2_1107_5_2_0_19950/scans/'"
   ]
  },
  {
   "cell_type": "code",
   "execution_count": 5,
   "id": "c00d743b",
   "metadata": {},
   "outputs": [],
   "source": [
    "dcm_files = []"
   ]
  },
  {
   "cell_type": "code",
   "execution_count": 6,
   "id": "270135a3",
   "metadata": {},
   "outputs": [],
   "source": [
    "for ff in os.listdir(data_dir):\n",
    "    if '.dcm' in ff:\n",
    "        dcm_files.append(data_dir + ff)"
   ]
  },
  {
   "cell_type": "code",
   "execution_count": 7,
   "id": "9d1f7def",
   "metadata": {},
   "outputs": [
    {
     "name": "stdout",
     "output_type": "stream",
     "text": [
      "['/home/sapje1/data_sapje1/projects/hugh_soccer/22_02_10-09_42_33-STD-1_3_12_2_1107_5_2_0_19950/scans/2-msHARDI.dcm', '/home/sapje1/data_sapje1/projects/hugh_soccer/22_02_10-09_42_33-STD-1_3_12_2_1107_5_2_0_19950/scans/6-AxDiam.dcm']\n"
     ]
    }
   ],
   "source": [
    "print(dcm_files)"
   ]
  },
  {
   "cell_type": "code",
   "execution_count": 8,
   "id": "54aa9bbf",
   "metadata": {},
   "outputs": [],
   "source": [
    "dcm_hdr = siemensdicom.SiemensDicom()"
   ]
  },
  {
   "cell_type": "code",
   "execution_count": 9,
   "id": "b53f5c05",
   "metadata": {},
   "outputs": [
    {
     "name": "stdout",
     "output_type": "stream",
     "text": [
      ">>> ['/home/sapje1/data_sapje1/projects/hugh_soccer/22_02_10-09_42_33-STD-1_3_12_2_1107_5_2_0_19950/scans/2-msHARDI.dcm'] >>>\n",
      "(0008, 0080) Institution Name                    LO: 'CUBRIC-3TM'\n",
      "(0008, 0020) Study Date                          DA: '20220210'\n",
      "(0008, 0030) Study Time                          TM: '095014.609000'\n",
      "(0008, 1030) Study Description                   LO: '422_Soccer'\n",
      "(0040, 0254) Performed Procedure Step Descriptio LO: '3TMproj^422_Soccer'\n",
      "(0008, 103e) Series Description                  LO: 'msHARDI_ref_PA'\n",
      "(0010, 0010) Patient's Name                      PN: '100222-601'\n",
      "(0010, 0020) Patient ID                          LO: '22_02_10-09_42_33-STD-1_3_12_2_1107_5_2_0_19950'\n",
      "DICOM field  comments  not found\n",
      "(0018, 0024) Sequence Name                       SH: 'r1_b0'\n",
      "(0018, 0080) Repetition Time                     DS: '3000.0'\n",
      "(0018, 0081) Echo Time                           DS: '59.0'\n",
      "DICOM field  ti  not found\n",
      "(0018, 1314) Flip Angle                          DS: '90.0'\n",
      "(0018, 0050) Slice Thickness                     DS: '2.0'\n",
      "(0018, 0088) Spacing Between Slices              DS: '1.9999999801202'\n",
      "(0018, 0089) Number of Phase Encoding Steps      IS: '110'\n",
      "(0018, 0086) Echo Number(s)                      IS: '1'\n",
      "(0051, 1011) [PATModeText]                       LO: 'p2'\n",
      "(0018, 0091) Echo Train Length                   IS: '55'\n",
      "(0018, 0094) Percent Phase Field of View         DS: '100.0'\n",
      "(0028, 0030) Pixel Spacing                       DS: [2, 2]\n",
      "(0018, 0095) Pixel Bandwidth                     DS: '2275.0'\n",
      "(0018, 1310) Acquisition Matrix                  US: [110, 0, 0, 110]\n",
      "(0019, 1028) [BandwidthPerPixelPhaseEncode]      FD: 34.305\n",
      "(0018, 1251) Transmit Coil Name                  SH: 'Body'\n",
      "(0051, 100f) [CoilString]                        LO: 'HEA;HEP'\n",
      "(0019, 100c) [B_value]                           IS: '0'\n",
      "DICOM field  diff_gradients  not found\n",
      ">>> ['/home/sapje1/data_sapje1/projects/hugh_soccer/22_02_10-09_42_33-STD-1_3_12_2_1107_5_2_0_19950/scans/2-msHARDI.dcm', '/home/sapje1/data_sapje1/projects/hugh_soccer/22_02_10-09_42_33-STD-1_3_12_2_1107_5_2_0_19950/scans/6-AxDiam.dcm'] >>>\n",
      "(0008, 0080) Institution Name                    LO: 'CUBRIC-3TM'\n",
      "(0008, 0020) Study Date                          DA: '20220210'\n",
      "(0008, 0030) Study Time                          TM: '095014.609000'\n",
      "(0008, 1030) Study Description                   LO: '422_Soccer'\n",
      "(0040, 0254) Performed Procedure Step Descriptio LO: '3TMproj^422_Soccer'\n",
      "(0008, 103e) Series Description                  LO: 'msHARDI_ref_PA'\n",
      "(0010, 0010) Patient's Name                      PN: '100222-601'\n",
      "(0010, 0020) Patient ID                          LO: '22_02_10-09_42_33-STD-1_3_12_2_1107_5_2_0_19950'\n",
      "DICOM field  comments  not found\n",
      "(0018, 0024) Sequence Name                       SH: 'r1_b0'\n",
      "(0018, 0080) Repetition Time                     DS: '3000.0'\n",
      "(0018, 0081) Echo Time                           DS: '59.0'\n",
      "DICOM field  ti  not found\n",
      "(0018, 1314) Flip Angle                          DS: '90.0'\n",
      "(0018, 0050) Slice Thickness                     DS: '2.0'\n",
      "(0018, 0088) Spacing Between Slices              DS: '1.9999999801202'\n",
      "(0018, 0089) Number of Phase Encoding Steps      IS: '110'\n",
      "(0018, 0086) Echo Number(s)                      IS: '1'\n",
      "(0051, 1011) [PATModeText]                       LO: 'p2'\n",
      "(0018, 0091) Echo Train Length                   IS: '55'\n",
      "(0018, 0094) Percent Phase Field of View         DS: '100.0'\n",
      "(0028, 0030) Pixel Spacing                       DS: [2, 2]\n",
      "(0018, 0095) Pixel Bandwidth                     DS: '2275.0'\n",
      "(0018, 1310) Acquisition Matrix                  US: [110, 0, 0, 110]\n",
      "(0019, 1028) [BandwidthPerPixelPhaseEncode]      FD: 34.305\n",
      "(0018, 1251) Transmit Coil Name                  SH: 'Body'\n",
      "(0051, 100f) [CoilString]                        LO: 'HEA;HEP'\n",
      "(0019, 100c) [B_value]                           IS: '0'\n",
      "DICOM field  diff_gradients  not found\n",
      "(0008, 0080) Institution Name                    LO: 'CUBRIC-3TM'\n",
      "(0008, 0020) Study Date                          DA: '20220210'\n",
      "(0008, 0030) Study Time                          TM: '095014.609000'\n",
      "(0008, 1030) Study Description                   LO: '422_Soccer'\n",
      "(0040, 0254) Performed Procedure Step Descriptio LO: '3TMproj^422_Soccer'\n",
      "(0008, 103e) Series Description                  LO: 'AxDiam_b30000_PA_ref'\n",
      "(0010, 0010) Patient's Name                      PN: '100222-601'\n",
      "(0010, 0020) Patient ID                          LO: '22_02_10-09_42_33-STD-1_3_12_2_1107_5_2_0_19950'\n",
      "DICOM field  comments  not found\n",
      "(0018, 0024) Sequence Name                       SH: 'r1_b0'\n",
      "(0018, 0080) Repetition Time                     DS: '4000.0'\n",
      "(0018, 0081) Echo Time                           DS: '75.0'\n",
      "DICOM field  ti  not found\n",
      "(0018, 1314) Flip Angle                          DS: '90.0'\n",
      "(0018, 0050) Slice Thickness                     DS: '2.0'\n",
      "(0018, 0088) Spacing Between Slices              DS: '1.9999999801202'\n",
      "(0018, 0089) Number of Phase Encoding Steps      IS: '110'\n",
      "(0018, 0086) Echo Number(s)                      IS: '1'\n",
      "(0051, 1011) [PATModeText]                       LO: 'p2'\n",
      "(0018, 0091) Echo Train Length                   IS: '55'\n",
      "(0018, 0094) Percent Phase Field of View         DS: '100.0'\n",
      "(0028, 0030) Pixel Spacing                       DS: [2, 2]\n",
      "(0018, 0095) Pixel Bandwidth                     DS: '2275.0'\n",
      "(0018, 1310) Acquisition Matrix                  US: [110, 0, 0, 110]\n",
      "(0019, 1028) [BandwidthPerPixelPhaseEncode]      FD: 34.305\n",
      "(0018, 1251) Transmit Coil Name                  SH: 'Body'\n",
      "(0051, 100f) [CoilString]                        LO: 'HEA;HEP'\n",
      "(0019, 100c) [B_value]                           IS: '0'\n",
      "DICOM field  diff_gradients  not found\n"
     ]
    }
   ],
   "source": [
    "for fff in dcm_files:\n",
    "    dcm_hdr.read_dicom(fff)\n",
    "    dcm_hdr.show_dicom()"
   ]
  }
 ],
 "metadata": {
  "kernelspec": {
   "display_name": "Python 3 (ipykernel)",
   "language": "python",
   "name": "python3"
  },
  "language_info": {
   "codemirror_mode": {
    "name": "ipython",
    "version": 3
   },
   "file_extension": ".py",
   "mimetype": "text/x-python",
   "name": "python",
   "nbconvert_exporter": "python",
   "pygments_lexer": "ipython3",
   "version": "3.8.12"
  }
 },
 "nbformat": 4,
 "nbformat_minor": 5
}
