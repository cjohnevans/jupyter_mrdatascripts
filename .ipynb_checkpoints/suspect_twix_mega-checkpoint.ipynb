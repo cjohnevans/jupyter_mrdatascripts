{
 "cells": [
  {
   "cell_type": "code",
   "execution_count": 1,
   "id": "931f6cde",
   "metadata": {},
   "outputs": [],
   "source": [
    "#  Siemens TWIX, Prisma"
   ]
  },
  {
   "cell_type": "code",
   "execution_count": 2,
   "id": "58fc6dfe",
   "metadata": {},
   "outputs": [],
   "source": [
    "import sys\n",
    "sys.path.append('/home/sapje1/code/suspect')\n",
    "import suspect\n",
    "import numpy as np\n",
    "from matplotlib import pyplot as plt\n",
    "import os"
   ]
  },
  {
   "cell_type": "code",
   "execution_count": 3,
   "id": "a3579478",
   "metadata": {},
   "outputs": [
    {
     "name": "stdout",
     "output_type": "stream",
     "text": [
      "/home/sapje1/data_sapje1/projects/wand/mrs_7t/meas_MID68_slaser_AC_met_FID113307.dat\n"
     ]
    }
   ],
   "source": [
    "#data_dir = '/home/sapje1/data_sapje1/projects/wand/mrs/19_06_14-11_17_09-DST-1_3_12_2_1107_5_2_43_66073/scans/502-RAW_anonymised/resources/TWIX/files'\n",
    "#twix_file = 'meas_MID00465_FID13471_mpress_AC_met.dat'\n",
    "data_dir = '/home/sapje1/data_sapje1/projects/wand/mrs_7t'\n",
    "twix_file = 'meas_MID68_slaser_AC_met_FID113307.dat'\n",
    "\n",
    "full_path = os.path.join(data_dir, twix_file)\n",
    "print(full_path)"
   ]
  },
  {
   "cell_type": "code",
   "execution_count": 5,
   "id": "53ac064e",
   "metadata": {},
   "outputs": [
    {
     "name": "stdout",
     "output_type": "stream",
     "text": [
      "543136\n"
     ]
    },
    {
     "ename": "error",
     "evalue": "unpack requires a buffer of 16 bytes",
     "output_type": "error",
     "traceback": [
      "\u001b[0;31m---------------------------------------------------------------------------\u001b[0m",
      "\u001b[0;31merror\u001b[0m                                     Traceback (most recent call last)",
      "\u001b[0;32m/tmp/ipykernel_30740/2065381711.py\u001b[0m in \u001b[0;36m<module>\u001b[0;34m\u001b[0m\n\u001b[0;32m----> 1\u001b[0;31m \u001b[0mtwix_data\u001b[0m \u001b[0;34m=\u001b[0m \u001b[0msuspect\u001b[0m\u001b[0;34m.\u001b[0m\u001b[0mio\u001b[0m\u001b[0;34m.\u001b[0m\u001b[0mtwix\u001b[0m\u001b[0;34m.\u001b[0m\u001b[0mload_twix\u001b[0m\u001b[0;34m(\u001b[0m\u001b[0mfull_path\u001b[0m\u001b[0;34m)\u001b[0m\u001b[0;34m\u001b[0m\u001b[0;34m\u001b[0m\u001b[0m\n\u001b[0m\u001b[1;32m      2\u001b[0m \u001b[0;31m# shape of twix data is (edit_on/edit_off, average, Rx_channel, n_points)\u001b[0m\u001b[0;34m\u001b[0m\u001b[0;34m\u001b[0m\u001b[0;34m\u001b[0m\u001b[0m\n\u001b[1;32m      3\u001b[0m \u001b[0mprint\u001b[0m\u001b[0;34m(\u001b[0m\u001b[0mtwix_data\u001b[0m\u001b[0;34m)\u001b[0m\u001b[0;34m\u001b[0m\u001b[0;34m\u001b[0m\u001b[0m\n\u001b[1;32m      4\u001b[0m \u001b[0mprint\u001b[0m\u001b[0;34m(\u001b[0m\u001b[0mtwix_data\u001b[0m\u001b[0;34m.\u001b[0m\u001b[0mshape\u001b[0m\u001b[0;34m)\u001b[0m\u001b[0;34m\u001b[0m\u001b[0;34m\u001b[0m\u001b[0m\n\u001b[1;32m      5\u001b[0m \u001b[0mprint\u001b[0m\u001b[0;34m(\u001b[0m\u001b[0mtype\u001b[0m\u001b[0;34m(\u001b[0m\u001b[0mtwix_data\u001b[0m\u001b[0;34m)\u001b[0m\u001b[0;34m)\u001b[0m\u001b[0;34m\u001b[0m\u001b[0;34m\u001b[0m\u001b[0m\n",
      "\u001b[0;32m~/code/suspect/suspect/io/twix.py\u001b[0m in \u001b[0;36mload_twix\u001b[0;34m(filename)\u001b[0m\n\u001b[1;32m    490\u001b[0m             \u001b[0mload_twix_vd\u001b[0m\u001b[0;34m(\u001b[0m\u001b[0mfin\u001b[0m\u001b[0;34m,\u001b[0m \u001b[0mbuilder\u001b[0m\u001b[0;34m)\u001b[0m\u001b[0;34m\u001b[0m\u001b[0;34m\u001b[0m\u001b[0m\n\u001b[1;32m    491\u001b[0m         \u001b[0;32melse\u001b[0m\u001b[0;34m:\u001b[0m\u001b[0;34m\u001b[0m\u001b[0;34m\u001b[0m\u001b[0m\n\u001b[0;32m--> 492\u001b[0;31m             \u001b[0mload_twix_vb\u001b[0m\u001b[0;34m(\u001b[0m\u001b[0mfin\u001b[0m\u001b[0;34m,\u001b[0m \u001b[0mbuilder\u001b[0m\u001b[0;34m)\u001b[0m\u001b[0;34m\u001b[0m\u001b[0;34m\u001b[0m\u001b[0m\n\u001b[0m\u001b[1;32m    493\u001b[0m \u001b[0;34m\u001b[0m\u001b[0m\n\u001b[1;32m    494\u001b[0m     \u001b[0;32mreturn\u001b[0m \u001b[0mbuilder\u001b[0m\u001b[0;34m.\u001b[0m\u001b[0mbuild_mrsdata\u001b[0m\u001b[0;34m(\u001b[0m\u001b[0;34m)\u001b[0m\u001b[0;34m\u001b[0m\u001b[0;34m\u001b[0m\u001b[0m\n",
      "\u001b[0;32m~/code/suspect/suspect/io/twix.py\u001b[0m in \u001b[0;36mload_twix_vb\u001b[0;34m(fin, builder)\u001b[0m\n\u001b[1;32m    302\u001b[0m         \u001b[0mPCI_rx\u001b[0m \u001b[0;34m=\u001b[0m \u001b[0mtemp\u001b[0m \u001b[0;34m>>\u001b[0m \u001b[0;36m26\u001b[0m\u001b[0;34m\u001b[0m\u001b[0;34m\u001b[0m\u001b[0m\n\u001b[1;32m    303\u001b[0m \u001b[0;34m\u001b[0m\u001b[0m\n\u001b[0;32m--> 304\u001b[0;31m         \u001b[0mmeas_uid\u001b[0m\u001b[0;34m,\u001b[0m \u001b[0mscan_counter\u001b[0m\u001b[0;34m,\u001b[0m \u001b[0mtime_stamp\u001b[0m\u001b[0;34m,\u001b[0m \u001b[0mpmu_time_stamp\u001b[0m \u001b[0;34m=\u001b[0m \u001b[0mstruct\u001b[0m\u001b[0;34m.\u001b[0m\u001b[0munpack\u001b[0m\u001b[0;34m(\u001b[0m\u001b[0;34m\"IIII\"\u001b[0m\u001b[0;34m,\u001b[0m \u001b[0mfin\u001b[0m\u001b[0;34m.\u001b[0m\u001b[0mread\u001b[0m\u001b[0;34m(\u001b[0m\u001b[0;36m16\u001b[0m\u001b[0;34m)\u001b[0m\u001b[0;34m)\u001b[0m\u001b[0;34m\u001b[0m\u001b[0;34m\u001b[0m\u001b[0m\n\u001b[0m\u001b[1;32m    305\u001b[0m \u001b[0;34m\u001b[0m\u001b[0m\n\u001b[1;32m    306\u001b[0m         \u001b[0;31m# next long int is actually a lot of bit flags\u001b[0m\u001b[0;34m\u001b[0m\u001b[0;34m\u001b[0m\u001b[0;34m\u001b[0m\u001b[0m\n",
      "\u001b[0;31merror\u001b[0m: unpack requires a buffer of 16 bytes"
     ]
    }
   ],
   "source": [
    "twix_data = suspect.io.twix.load_twix(full_path)\n",
    "# shape of twix data is (edit_on/edit_off, average, Rx_channel, n_points)\n",
    "print(twix_data)\n",
    "print(twix_data.shape)\n",
    "print(type(twix_data))"
   ]
  },
  {
   "cell_type": "code",
   "execution_count": null,
   "id": "96758615",
   "metadata": {},
   "outputs": [],
   "source": [
    "twix_data.ndim\n"
   ]
  },
  {
   "cell_type": "code",
   "execution_count": null,
   "id": "e630e751",
   "metadata": {},
   "outputs": [],
   "source": [
    "# for edited data, deal with edit on/ edit off separately\n",
    "# channel0 is edit off, channel1 is edit on\n",
    "comb_channels0 = suspect.processing.channel_combination.combine_channels(twix_data[0])\n",
    "comb_channels1 = suspect.processing.channel_combination.combine_channels(twix_data[1])\n",
    "avg_comb_channels0 = np.mean(comb_channels0,0)\n",
    "avg_comb_channels1 = np.mean(comb_channels1,0)\n",
    "f_ppm = avg_comb_channels0.frequency_axis_ppm()"
   ]
  },
  {
   "cell_type": "code",
   "execution_count": null,
   "id": "4e4a04cb",
   "metadata": {},
   "outputs": [],
   "source": [
    "# plot the results of combining and averaging \n",
    "fig,ax = plt.subplots()\n",
    "ax.plot(f_ppm, np.real(1e5*avg_comb_channels0.spectrum()), \\\n",
    "        f_ppm, np.real(1e5*avg_comb_channels1.spectrum()))\n",
    "ax.set_xlim(4.5,1)\n",
    "ax.set_ylim(-3,25)"
   ]
  }
 ],
 "metadata": {
  "kernelspec": {
   "display_name": "Python 3 (ipykernel)",
   "language": "python",
   "name": "python3"
  },
  "language_info": {
   "codemirror_mode": {
    "name": "ipython",
    "version": 3
   },
   "file_extension": ".py",
   "mimetype": "text/x-python",
   "name": "python",
   "nbconvert_exporter": "python",
   "pygments_lexer": "ipython3",
   "version": "3.8.12"
  }
 },
 "nbformat": 4,
 "nbformat_minor": 5
}
