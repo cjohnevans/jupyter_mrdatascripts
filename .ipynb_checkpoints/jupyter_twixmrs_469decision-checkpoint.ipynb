{
 "cells": [
  {
   "cell_type": "code",
   "execution_count": 1,
   "id": "d053d8db",
   "metadata": {},
   "outputs": [],
   "source": [
    "import sys\n",
    "sys.path.append('/home/sapje1/code/python_mrdatamethods')\n",
    "import twixmrs"
   ]
  },
  {
   "cell_type": "code",
   "execution_count": 2,
   "id": "04039d7e",
   "metadata": {},
   "outputs": [],
   "source": [
    "# Jiaxiang 469_decision pilot\n",
    "data_dir = '/home/sapje1/scratch_sapje1/projects/469_decision/mrs'\n",
    "in_file = [ '240322-401_pilot/meas_MID00551_FID47096_PRESS30_AC_128avg.dat', \\\n",
    "            '240322-401_pilot/meas_MID00575_FID47120_PRESS30_OCC_128avg.dat' ]"
   ]
  },
  {
   "cell_type": "code",
   "execution_count": 3,
   "id": "efa760e8",
   "metadata": {},
   "outputs": [
    {
     "name": "stdout",
     "output_type": "stream",
     "text": [
      "['240322-401_pilot/meas_MID00551_FID47096_PRESS30_AC_128avg.dat', '240322-401_pilot/meas_MID00575_FID47120_PRESS30_OCC_128avg.dat']\n",
      "Loading /home/sapje1/scratch_sapje1/projects/469_decision/mrs/240322-401_pilot/meas_MID00551_FID47096_PRESS30_AC_128avg.dat\n"
     ]
    },
    {
     "name": "stderr",
     "output_type": "stream",
     "text": [
      "/home/sapje1/code/suspect/suspect/io/twix.py:115: FutureWarning: Possible nested set at position 48\n",
      "  match = re.findall(rgx, header_string)\n",
      "/home/sapje1/code/suspect/suspect/io/twix.py:115: FutureWarning: Possible nested set at position 34\n",
      "  match = re.findall(rgx, header_string)\n",
      "/home/sapje1/code/suspect/suspect/io/twix.py:115: FutureWarning: Possible nested set at position 39\n",
      "  match = re.findall(rgx, header_string)\n",
      "/home/sapje1/code/suspect/suspect/io/twix.py:115: FutureWarning: Possible nested set at position 37\n",
      "  match = re.findall(rgx, header_string)\n",
      "/home/sapje1/code/suspect/suspect/io/twix.py:115: FutureWarning: Possible nested set at position 38\n",
      "  match = re.findall(rgx, header_string)\n",
      "/home/sapje1/code/suspect/suspect/io/twix.py:115: FutureWarning: Possible nested set at position 43\n",
      "  match = re.findall(rgx, header_string)\n",
      "/home/sapje1/code/suspect/suspect/io/twix.py:115: FutureWarning: Possible nested set at position 41\n",
      "  match = re.findall(rgx, header_string)\n"
     ]
    },
    {
     "name": "stdout",
     "output_type": "stream",
     "text": [
      "(128, 2, 32, 2048)\n",
      "Loading /home/sapje1/scratch_sapje1/projects/469_decision/mrs/240322-401_pilot/meas_MID00575_FID47120_PRESS30_OCC_128avg.dat\n",
      "(128, 2, 32, 2048)\n"
     ]
    }
   ],
   "source": [
    "print(in_file)\n",
    "mrs_data = twixmrs.twixmrs_load_basic(data_dir, in_file)"
   ]
  },
  {
   "cell_type": "code",
   "execution_count": 7,
   "id": "312cede1",
   "metadata": {},
   "outputs": [
    {
     "name": "stdout",
     "output_type": "stream",
     "text": [
      "[(2048,), (2048,)]\n"
     ]
    },
    {
     "ename": "TypeError",
     "evalue": "twixmrs_plot() got an unexpected keyword argument 'x_lim'",
     "output_type": "error",
     "traceback": [
      "\u001b[0;31m---------------------------------------------------------------------------\u001b[0m",
      "\u001b[0;31mTypeError\u001b[0m                                 Traceback (most recent call last)",
      "\u001b[0;32m/tmp/ipykernel_32167/3019374139.py\u001b[0m in \u001b[0;36m<module>\u001b[0;34m\u001b[0m\n\u001b[1;32m      5\u001b[0m \u001b[0mprint\u001b[0m\u001b[0;34m(\u001b[0m\u001b[0;34m[\u001b[0m \u001b[0mphs\u001b[0m\u001b[0;34m.\u001b[0m\u001b[0mshape\u001b[0m \u001b[0;32mfor\u001b[0m \u001b[0mphs\u001b[0m \u001b[0;32min\u001b[0m \u001b[0mmrs_data_phased\u001b[0m \u001b[0;34m]\u001b[0m\u001b[0;34m)\u001b[0m\u001b[0;34m\u001b[0m\u001b[0;34m\u001b[0m\u001b[0m\n\u001b[1;32m      6\u001b[0m \u001b[0mline_label\u001b[0m \u001b[0;34m=\u001b[0m \u001b[0;34m[\u001b[0m\u001b[0;34m'ACC'\u001b[0m\u001b[0;34m,\u001b[0m \u001b[0;34m'Occipital'\u001b[0m \u001b[0;34m]\u001b[0m\u001b[0;34m\u001b[0m\u001b[0;34m\u001b[0m\u001b[0m\n\u001b[0;32m----> 7\u001b[0;31m \u001b[0mtwixmrs\u001b[0m\u001b[0;34m.\u001b[0m\u001b[0mtwixmrs_plot\u001b[0m\u001b[0;34m(\u001b[0m\u001b[0mmrs_data_phased\u001b[0m\u001b[0;34m,\u001b[0m \u001b[0mline_label\u001b[0m\u001b[0;34m,\u001b[0m \u001b[0mx_lim\u001b[0m \u001b[0;34m=\u001b[0m \u001b[0;36m3\u001b[0m\u001b[0;34m,\u001b[0m \u001b[0my_lim\u001b[0m\u001b[0;34m=\u001b[0m\u001b[0;36m7\u001b[0m\u001b[0;34m)\u001b[0m\u001b[0;34m\u001b[0m\u001b[0;34m\u001b[0m\u001b[0m\n\u001b[0m",
      "\u001b[0;31mTypeError\u001b[0m: twixmrs_plot() got an unexpected keyword argument 'x_lim'"
     ]
    }
   ],
   "source": [
    "mrs_data_phased = []\n",
    "mrs_data_phased.append( mrs_data[0].adjust_phase(0,-0.04) )  #acc\n",
    "mrs_data_phased.append( mrs_data[2].adjust_phase(0,-0.036) )   # occ\n",
    "\n",
    "print([ phs.shape for phs in mrs_data_phased ])\n",
    "line_label = ['ACC', 'Occipital' ]\n",
    "twixmrs.twixmrs_plot(mrs_data_phased, line_label, x_lim=3, y_lim=7)"
   ]
  },
  {
   "cell_type": "code",
   "execution_count": null,
   "id": "70a677a5",
   "metadata": {},
   "outputs": [],
   "source": []
  }
 ],
 "metadata": {
  "kernelspec": {
   "display_name": "Python 3 (ipykernel)",
   "language": "python",
   "name": "python3"
  },
  "language_info": {
   "codemirror_mode": {
    "name": "ipython",
    "version": 3
   },
   "file_extension": ".py",
   "mimetype": "text/x-python",
   "name": "python",
   "nbconvert_exporter": "python",
   "pygments_lexer": "ipython3",
   "version": "3.8.12"
  }
 },
 "nbformat": 4,
 "nbformat_minor": 5
}
