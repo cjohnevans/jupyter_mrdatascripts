{
 "cells": [
  {
   "cell_type": "code",
   "execution_count": 1,
   "id": "e325d466",
   "metadata": {},
   "outputs": [],
   "source": [
    "import sys\n",
    "import os"
   ]
  },
  {
   "cell_type": "code",
   "execution_count": 2,
   "id": "ec1ed0d5",
   "metadata": {},
   "outputs": [],
   "source": [
    "sys.path.append('/home/sapje1/code/python_mrdatamethods/')"
   ]
  },
  {
   "cell_type": "code",
   "execution_count": 3,
   "id": "a6d8371e",
   "metadata": {},
   "outputs": [],
   "source": [
    "import siemensdicom"
   ]
  },
  {
   "cell_type": "code",
   "execution_count": 4,
   "id": "3a8827dd",
   "metadata": {},
   "outputs": [],
   "source": [
    "data_dir = '/home/sapje1/data_sapje1/projects/hugh_soccer/22_02_10-09_42_33-STD-1_3_12_2_1107_5_2_0_19950/scans/'"
   ]
  },
  {
   "cell_type": "code",
   "execution_count": 5,
   "id": "4ba72c30",
   "metadata": {},
   "outputs": [],
   "source": [
    "dcm_files = []"
   ]
  },
  {
   "cell_type": "code",
   "execution_count": 6,
   "id": "c33944d7",
   "metadata": {},
   "outputs": [],
   "source": [
    "for ff in os.listdir(data_dir):\n",
    "    if '.dcm' in ff:\n",
    "        dcm_files.append(data_dir + ff)"
   ]
  },
  {
   "cell_type": "code",
   "execution_count": 7,
   "id": "f797edb1",
   "metadata": {},
   "outputs": [
    {
     "name": "stdout",
     "output_type": "stream",
     "text": [
      "['/home/sapje1/data_sapje1/projects/hugh_soccer/22_02_10-09_42_33-STD-1_3_12_2_1107_5_2_0_19950/scans/2-msHARDI.dcm', '/home/sapje1/data_sapje1/projects/hugh_soccer/22_02_10-09_42_33-STD-1_3_12_2_1107_5_2_0_19950/scans/6-AxDiam.dcm']\n"
     ]
    }
   ],
   "source": [
    "print(dcm_files)"
   ]
  },
  {
   "cell_type": "code",
   "execution_count": 8,
   "id": "32d0f7cf",
   "metadata": {},
   "outputs": [],
   "source": [
    "dcm_hdr = siemensdicom.SiemensDicom()"
   ]
  },
  {
   "cell_type": "code",
   "execution_count": 9,
   "id": "3d23f178",
   "metadata": {},
   "outputs": [
    {
     "name": "stdout",
     "output_type": "stream",
     "text": [
      ">>> [] >>>\n",
      ">>> [] >>>\n"
     ]
    }
   ],
   "source": [
    "for fff in dcm_files:\n",
    "    dcm_hdr.read_dicom(fff)\n",
    "    dcm_hdr.show_dicom()"
   ]
  }
 ],
 "metadata": {
  "kernelspec": {
   "display_name": "Python 3 (ipykernel)",
   "language": "python",
   "name": "python3"
  },
  "language_info": {
   "codemirror_mode": {
    "name": "ipython",
    "version": 3
   },
   "file_extension": ".py",
   "mimetype": "text/x-python",
   "name": "python",
   "nbconvert_exporter": "python",
   "pygments_lexer": "ipython3",
   "version": "3.8.12"
  }
 },
 "nbformat": 4,
 "nbformat_minor": 5
}
