{
 "cells": [
  {
   "cell_type": "code",
   "execution_count": 1,
   "id": "4e835bda",
   "metadata": {},
   "outputs": [],
   "source": [
    "import sys\n",
    "import os\n",
    "sys.path.append('/home/sapje1/code/python_mrobjects')\n",
    "sys.path.append('/home/sapje1/code/suspect')\n",
    "import twixmrs\n",
    "import suspect"
   ]
  },
  {
   "cell_type": "code",
   "execution_count": 2,
   "id": "340c71d9",
   "metadata": {},
   "outputs": [],
   "source": [
    "in_dir = '/home/sapje1/data_sapje1/projects/mrs_thalamus/'\n",
    "#in_dat = 'meas_MID91_sLaser_Brainstem_20_12_12_FID121173.dat'\n",
    "in_dat = 'meas_MID90_sLaser_Brainstem_20_12_12_FID121172.dat'\n",
    "#in_dat = 'meas_MID93_sLaser_Brainstem_20_12_12_RF_OFF_FID121175.dat'"
   ]
  },
  {
   "cell_type": "code",
   "execution_count": 3,
   "id": "ae10da06",
   "metadata": {},
   "outputs": [
    {
     "name": "stdout",
     "output_type": "stream",
     "text": [
      "<class 'str'>\n",
      "Loading /home/sapje1/data_sapje1/projects/mrs_thalamus/meas_MID90_sLaser_Brainstem_20_12_12_FID121172.dat\n",
      "header_size\n",
      "587936\n",
      "start_position\n",
      "587936\n"
     ]
    },
    {
     "name": "stderr",
     "output_type": "stream",
     "text": [
      "/home/sapje1/code/suspect/suspect/io/twix.py:115: FutureWarning: Possible nested set at position 48\n",
      "  match = re.findall(rgx, header_string)\n",
      "/home/sapje1/code/suspect/suspect/io/twix.py:115: FutureWarning: Possible nested set at position 34\n",
      "  match = re.findall(rgx, header_string)\n",
      "/home/sapje1/code/suspect/suspect/io/twix.py:115: FutureWarning: Possible nested set at position 39\n",
      "  match = re.findall(rgx, header_string)\n",
      "/home/sapje1/code/suspect/suspect/io/twix.py:115: FutureWarning: Possible nested set at position 37\n",
      "  match = re.findall(rgx, header_string)\n",
      "/home/sapje1/code/suspect/suspect/io/twix.py:115: FutureWarning: Possible nested set at position 38\n",
      "  match = re.findall(rgx, header_string)\n",
      "/home/sapje1/code/suspect/suspect/io/twix.py:115: FutureWarning: Possible nested set at position 43\n",
      "  match = re.findall(rgx, header_string)\n",
      "/home/sapje1/code/suspect/suspect/io/twix.py:115: FutureWarning: Possible nested set at position 41\n",
      "  match = re.findall(rgx, header_string)\n"
     ]
    },
    {
     "ename": "error",
     "evalue": "unpack requires a buffer of 4 bytes",
     "output_type": "error",
     "traceback": [
      "\u001b[0;31m---------------------------------------------------------------------------\u001b[0m",
      "\u001b[0;31merror\u001b[0m                                     Traceback (most recent call last)",
      "\u001b[0;32m/tmp/ipykernel_31879/540664724.py\u001b[0m in \u001b[0;36m<module>\u001b[0;34m\u001b[0m\n\u001b[0;32m----> 1\u001b[0;31m \u001b[0mmrs_data\u001b[0m \u001b[0;34m=\u001b[0m \u001b[0mtwixmrs\u001b[0m\u001b[0;34m.\u001b[0m\u001b[0mtwixmrs_load_basic\u001b[0m\u001b[0;34m(\u001b[0m\u001b[0min_dir\u001b[0m\u001b[0;34m,\u001b[0m \u001b[0min_dat\u001b[0m\u001b[0;34m)\u001b[0m\u001b[0;34m\u001b[0m\u001b[0;34m\u001b[0m\u001b[0m\n\u001b[0m",
      "\u001b[0;32m~/code/python_mrobjects/twixmrs.py\u001b[0m in \u001b[0;36mtwixmrs_load_basic\u001b[0;34m(data_dir, in_file)\u001b[0m\n\u001b[1;32m     45\u001b[0m         \u001b[0mfull_path\u001b[0m \u001b[0;34m=\u001b[0m \u001b[0mos\u001b[0m\u001b[0;34m.\u001b[0m\u001b[0mpath\u001b[0m\u001b[0;34m.\u001b[0m\u001b[0mjoin\u001b[0m\u001b[0;34m(\u001b[0m\u001b[0mdata_dir\u001b[0m\u001b[0;34m,\u001b[0m \u001b[0mfile\u001b[0m\u001b[0;34m)\u001b[0m\u001b[0;34m\u001b[0m\u001b[0;34m\u001b[0m\u001b[0m\n\u001b[1;32m     46\u001b[0m         \u001b[0mprint\u001b[0m\u001b[0;34m(\u001b[0m\u001b[0;34m'Loading '\u001b[0m \u001b[0;34m+\u001b[0m \u001b[0mfull_path\u001b[0m\u001b[0;34m)\u001b[0m\u001b[0;34m\u001b[0m\u001b[0;34m\u001b[0m\u001b[0m\n\u001b[0;32m---> 47\u001b[0;31m         \u001b[0mtwix_data\u001b[0m \u001b[0;34m=\u001b[0m \u001b[0msuspect\u001b[0m\u001b[0;34m.\u001b[0m\u001b[0mio\u001b[0m\u001b[0;34m.\u001b[0m\u001b[0mtwix\u001b[0m\u001b[0;34m.\u001b[0m\u001b[0mload_twix\u001b[0m\u001b[0;34m(\u001b[0m\u001b[0mfull_path\u001b[0m\u001b[0;34m)\u001b[0m\u001b[0;34m\u001b[0m\u001b[0;34m\u001b[0m\u001b[0m\n\u001b[0m\u001b[1;32m     48\u001b[0m         \u001b[0;31m# shape of twix data is (edit_on/edit_off, average, Rx_channel, n_points) for edited data\u001b[0m\u001b[0;34m\u001b[0m\u001b[0;34m\u001b[0m\u001b[0;34m\u001b[0m\u001b[0m\n\u001b[1;32m     49\u001b[0m         \u001b[0;31m#  (average, Rx_channel, n_points) for unedited data\u001b[0m\u001b[0;34m\u001b[0m\u001b[0;34m\u001b[0m\u001b[0;34m\u001b[0m\u001b[0m\n",
      "\u001b[0;32m~/code/suspect/suspect/io/twix.py\u001b[0m in \u001b[0;36mload_twix\u001b[0;34m(filename)\u001b[0m\n\u001b[1;32m    491\u001b[0m             \u001b[0mload_twix_vd\u001b[0m\u001b[0;34m(\u001b[0m\u001b[0mfin\u001b[0m\u001b[0;34m,\u001b[0m \u001b[0mbuilder\u001b[0m\u001b[0;34m)\u001b[0m\u001b[0;34m\u001b[0m\u001b[0;34m\u001b[0m\u001b[0m\n\u001b[1;32m    492\u001b[0m         \u001b[0;32melse\u001b[0m\u001b[0;34m:\u001b[0m\u001b[0;34m\u001b[0m\u001b[0;34m\u001b[0m\u001b[0m\n\u001b[0;32m--> 493\u001b[0;31m             \u001b[0mload_twix_vb\u001b[0m\u001b[0;34m(\u001b[0m\u001b[0mfin\u001b[0m\u001b[0;34m,\u001b[0m \u001b[0mbuilder\u001b[0m\u001b[0;34m)\u001b[0m\u001b[0;34m\u001b[0m\u001b[0;34m\u001b[0m\u001b[0m\n\u001b[0m\u001b[1;32m    494\u001b[0m \u001b[0;34m\u001b[0m\u001b[0m\n\u001b[1;32m    495\u001b[0m     \u001b[0;32mreturn\u001b[0m \u001b[0mbuilder\u001b[0m\u001b[0;34m.\u001b[0m\u001b[0mbuild_mrsdata\u001b[0m\u001b[0;34m(\u001b[0m\u001b[0;34m)\u001b[0m\u001b[0;34m\u001b[0m\u001b[0;34m\u001b[0m\u001b[0m\n",
      "\u001b[0;32m~/code/suspect/suspect/io/twix.py\u001b[0m in \u001b[0;36mload_twix_vb\u001b[0;34m(fin, builder)\u001b[0m\n\u001b[1;32m    294\u001b[0m \u001b[0;34m\u001b[0m\u001b[0m\n\u001b[1;32m    295\u001b[0m         \u001b[0;31m# the first four bytes contain composite information\u001b[0m\u001b[0;34m\u001b[0m\u001b[0;34m\u001b[0m\u001b[0;34m\u001b[0m\u001b[0m\n\u001b[0;32m--> 296\u001b[0;31m         \u001b[0mtemp\u001b[0m \u001b[0;34m=\u001b[0m \u001b[0mstruct\u001b[0m\u001b[0;34m.\u001b[0m\u001b[0munpack\u001b[0m\u001b[0;34m(\u001b[0m\u001b[0;34m\"I\"\u001b[0m\u001b[0;34m,\u001b[0m \u001b[0mfin\u001b[0m\u001b[0;34m.\u001b[0m\u001b[0mread\u001b[0m\u001b[0;34m(\u001b[0m\u001b[0;36m4\u001b[0m\u001b[0;34m)\u001b[0m\u001b[0;34m)\u001b[0m\u001b[0;34m[\u001b[0m\u001b[0;36m0\u001b[0m\u001b[0;34m]\u001b[0m\u001b[0;34m\u001b[0m\u001b[0;34m\u001b[0m\u001b[0m\n\u001b[0m\u001b[1;32m    297\u001b[0m \u001b[0;34m\u001b[0m\u001b[0m\n\u001b[1;32m    298\u001b[0m         \u001b[0;31m# 25 LSBs contain DMA length (size of this scan)\u001b[0m\u001b[0;34m\u001b[0m\u001b[0;34m\u001b[0m\u001b[0;34m\u001b[0m\u001b[0m\n",
      "\u001b[0;31merror\u001b[0m: unpack requires a buffer of 4 bytes"
     ]
    }
   ],
   "source": [
    "mrs_data = twixmrs.twixmrs_load_basic(in_dir, in_dat)"
   ]
  },
  {
   "cell_type": "code",
   "execution_count": null,
   "id": "3cc449f0",
   "metadata": {},
   "outputs": [],
   "source": [
    "type(mrs_data[0])"
   ]
  }
 ],
 "metadata": {
  "kernelspec": {
   "display_name": "Python 3 (ipykernel)",
   "language": "python",
   "name": "python3"
  },
  "language_info": {
   "codemirror_mode": {
    "name": "ipython",
    "version": 3
   },
   "file_extension": ".py",
   "mimetype": "text/x-python",
   "name": "python",
   "nbconvert_exporter": "python",
   "pygments_lexer": "ipython3",
   "version": "3.8.12"
  }
 },
 "nbformat": 4,
 "nbformat_minor": 5
}
