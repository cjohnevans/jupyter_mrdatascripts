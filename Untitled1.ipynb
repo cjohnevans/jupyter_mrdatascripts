{
 "cells": [
  {
   "cell_type": "code",
   "execution_count": 3,
   "id": "5db3492d",
   "metadata": {},
   "outputs": [
    {
     "ename": "ModuleNotFoundError",
     "evalue": "No module named 'python_mrobjects'",
     "output_type": "error",
     "traceback": [
      "\u001b[0;31m---------------------------------------------------------------------------\u001b[0m",
      "\u001b[0;31mModuleNotFoundError\u001b[0m                       Traceback (most recent call last)",
      "\u001b[0;32m/tmp/ipykernel_6003/3314727919.py\u001b[0m in \u001b[0;36m<module>\u001b[0;34m\u001b[0m\n\u001b[0;32m----> 1\u001b[0;31m \u001b[0;32mimport\u001b[0m \u001b[0mpython_mrobjects\u001b[0m\u001b[0;34m.\u001b[0m\u001b[0mmrstwix\u001b[0m\u001b[0;34m\u001b[0m\u001b[0;34m\u001b[0m\u001b[0m\n\u001b[0m\u001b[1;32m      2\u001b[0m \u001b[0;32mimport\u001b[0m \u001b[0msuspect\u001b[0m\u001b[0;34m\u001b[0m\u001b[0;34m\u001b[0m\u001b[0m\n",
      "\u001b[0;31mModuleNotFoundError\u001b[0m: No module named 'python_mrobjects'"
     ]
    }
   ],
   "source": [
    "import python_mrobjects.mrstwix\n",
    "import suspect"
   ]
  },
  {
   "cell_type": "code",
   "execution_count": 1,
   "id": "174768dd",
   "metadata": {},
   "outputs": [],
   "source": [
    "thal_dat = '/home/sapje1/data_sapje1/projects/mrs_thalamus/meas_MID91_sLaser_Brainstem_20_12_12_FID121173.dat'"
   ]
  },
  {
   "cell_type": "code",
   "execution_count": null,
   "id": "c06fa27d",
   "metadata": {},
   "outputs": [],
   "source": []
  }
 ],
 "metadata": {
  "kernelspec": {
   "display_name": "Python 3 (ipykernel)",
   "language": "python",
   "name": "python3"
  },
  "language_info": {
   "codemirror_mode": {
    "name": "ipython",
    "version": 3
   },
   "file_extension": ".py",
   "mimetype": "text/x-python",
   "name": "python",
   "nbconvert_exporter": "python",
   "pygments_lexer": "ipython3",
   "version": "3.8.12"
  }
 },
 "nbformat": 4,
 "nbformat_minor": 5
}
